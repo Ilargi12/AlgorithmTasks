{
 "cells": [
  {
   "cell_type": "code",
   "execution_count": 3,
   "metadata": {},
   "outputs": [
    {
     "name": "stdout",
     "output_type": "stream",
     "text": [
      "[0, 1, 2, 3, 6, 7, 10, 11, 12, 13, 16, 17, 18, 19, 20, 23, 24, 25, 26, 27, 30, 31, 32, 33, 34, 37, 38, 39, 40, 41, 44, 47, 50, 53, 54, 55, 58, 61, 62, 63, 64, 65, 68, 69, 70, 71, 72, 75, 76, 77, 78, 79, 82, 83, 86, 89, 90, 91, 92, 95, 96, 97, 98, 101, 102, 103, 104, 105, 108, 109, 110, 111, 112, 115, 116, 119, 120, 121, 124, 125, 126, 127, 128, 131, 132, 133, 134, 135, 138, 141, 142, 143, 144, 145, 148]\n"
     ]
    },
    {
     "data": {
      "text/plain": [
       "1876"
      ]
     },
     "execution_count": 3,
     "metadata": {},
     "output_type": "execute_result"
    }
   ],
   "source": [
    "def get_source():\n",
    "    array = [int(x) for x in open(\"source10_12.txt\").read().split()]\n",
    "    array.append(0)\n",
    "    return sorted(array)\n",
    "\n",
    "def get_jolts_diff():\n",
    "    array = get_source()\n",
    "    count_one_diff, count_three_diff = 0, 0\n",
    "    print(array)\n",
    "    for i in range(1, len(array)):\n",
    "        if array[i] - array[i-1] == 1 : count_one_diff+=1\n",
    "        elif array[i] - array[i-1] == 3 : count_three_diff+=1\n",
    "    return count_one_diff*(count_three_diff+1)\n",
    "    \n",
    "get_jolts_diff()"
   ]
  },
  {
   "cell_type": "code",
   "execution_count": 19,
   "metadata": {},
   "outputs": [
    {
     "data": {
      "text/plain": [
       "14173478093824"
      ]
     },
     "execution_count": 19,
     "metadata": {},
     "output_type": "execute_result"
    }
   ],
   "source": [
    "# [0, 1, 4]\n",
    "def count_rec_arr(array, index, prev_elem):\n",
    "    if array[index] - prev_elem > 3: return 0\n",
    "    if index == len(array)-1: return 1\n",
    "    return count_rec_arr(array, index+1, prev_elem) + count_rec_arr(array, index+1, array[index])\n",
    "\n",
    "\n",
    "def get_arrangements():\n",
    "    array = get_source()\n",
    "    index = 0\n",
    "    summ = 1\n",
    "    for i in range(1, len(array)):\n",
    "        if array[i] - array[i-1] == 3:\n",
    "            subarray = array[index:i]\n",
    "            if len(subarray) > 1:\n",
    "                summ *= count_rec_arr(subarray, 1, subarray[0])\n",
    "            index = i\n",
    "    return summ\n",
    "    \n",
    "#count_rec_arr([0], 1, 0)\n",
    "get_arrangements()\n",
    "    "
   ]
  }
 ],
 "metadata": {
  "kernelspec": {
   "display_name": "Python 3",
   "language": "python",
   "name": "python3"
  },
  "language_info": {
   "codemirror_mode": {
    "name": "ipython",
    "version": 3
   },
   "file_extension": ".py",
   "mimetype": "text/x-python",
   "name": "python",
   "nbconvert_exporter": "python",
   "pygments_lexer": "ipython3",
   "version": "3.8.3"
  }
 },
 "nbformat": 4,
 "nbformat_minor": 4
}
