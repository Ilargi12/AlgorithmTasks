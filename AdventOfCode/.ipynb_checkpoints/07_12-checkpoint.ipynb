{
 "cells": [
  {
   "cell_type": "code",
   "execution_count": 76,
   "metadata": {},
   "outputs": [
    {
     "name": "stdout",
     "output_type": "stream",
     "text": [
      "261\n"
     ]
    }
   ],
   "source": [
    "import networkx as nx\n",
    "import matplotlib.pyplot as plt\n",
    "import re\n",
    "\n",
    "def create_graph_from_txt():\n",
    "    G = nx.DiGraph()\n",
    "    array = open(\"source07_12.txt\").read().split('\\n')\n",
    "    for sentence in array:\n",
    "        vertex, rest = sentence.split(\" bags \")\n",
    "        if vertex not in G:\n",
    "            G.add_node(vertex)\n",
    "        G.add_node(vertex)\n",
    "        rest = rest.replace('contain ', '')\n",
    "        rest = rest.replace('bags', '')\n",
    "        rest = rest.replace('bag', '')\n",
    "        rest = rest.replace('.', '')\n",
    "        #rest = re.sub(\"[0-9]+\",'',rest)\n",
    "        colors = rest.split(\",\")\n",
    "        if 'no other ' not in colors:\n",
    "            for color in colors:\n",
    "                vertex_to_add = color.strip()\n",
    "                wage, vertex_to_add = color.split()[0], \" \".join(color.split()[1:])\n",
    "                if vertex_to_add not in G:\n",
    "                    G.add_node(vertex_to_add)\n",
    "                G.add_edge(vertex, vertex_to_add, wage=int(wage) )\n",
    "    return G\n",
    "\n",
    "def f():\n",
    "    G = create_graph_from_txt()\n",
    "    result = list(filter(lambda x: nx.has_path(G,x,'shiny gold'), G.nodes()))\n",
    "    \n",
    "    print(len(result)- 1)\n",
    "\n",
    "f()\n"
   ]
  },
  {
   "cell_type": "code",
   "execution_count": 140,
   "metadata": {},
   "outputs": [
    {
     "name": "stdout",
     "output_type": "stream",
     "text": [
      "2899\n"
     ]
    }
   ],
   "source": [
    "def f2():\n",
    "    G = create_graph_from_txt()\n",
    "    print(count_bags_within(G, 'shiny gold') - 1)\n",
    "    \n",
    "    \n",
    "def count_bags_within(G, node_name):\n",
    "    if not list(G.out_edges(node_name)) :\n",
    "        return 0\n",
    "    \n",
    "    result = 0\n",
    "    for (u,v) in G.out_edges(node_name):\n",
    "        result += G[u][v]['wage'] + G[u][v]['wage']*count_bags_within(G, v)\n",
    "    return result\n",
    "f2()"
   ]
  }
 ],
 "metadata": {
  "kernelspec": {
   "display_name": "Python 3",
   "language": "python",
   "name": "python3"
  },
  "language_info": {
   "codemirror_mode": {
    "name": "ipython",
    "version": 3
   },
   "file_extension": ".py",
   "mimetype": "text/x-python",
   "name": "python",
   "nbconvert_exporter": "python",
   "pygments_lexer": "ipython3",
   "version": "3.8.3"
  }
 },
 "nbformat": 4,
 "nbformat_minor": 4
}
