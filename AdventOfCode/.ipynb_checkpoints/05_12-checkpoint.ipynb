{
 "cells": [
  {
   "cell_type": "code",
   "execution_count": 55,
   "metadata": {},
   "outputs": [
    {
     "name": "stdout",
     "output_type": "stream",
     "text": [
      "BBFBBFB RRL\n",
      "start = 0\n",
      "end = 127\n",
      "start = 64\n",
      "end = 127\n",
      "start = 96\n",
      "end = 127\n",
      "start = 96\n",
      "end = 111\n",
      "start = 104\n",
      "end = 111\n",
      "start = 108\n",
      "end = 111\n",
      "start = 108\n",
      "end = 109\n",
      "start = 0\n",
      "end = 7\n",
      "start = 4\n",
      "end = 7\n",
      "start = 6\n",
      "end = 7\n"
     ]
    },
    {
     "data": {
      "text/plain": [
       "878"
      ]
     },
     "execution_count": 55,
     "metadata": {},
     "output_type": "execute_result"
    }
   ],
   "source": [
    "import functools as fun\n",
    "\n",
    "def binary_search(word, start, end, iterations, count):\n",
    "    if(count == iterations):\n",
    "        return start\n",
    "    if word[count] in ['F', 'L']: return binary_search(word, start, end - int((end-start)/2) - 1, iterations, count+1)\n",
    "    else : return binary_search(word, start + int((end-start)/2) + 1, end, iterations, count+1)\n",
    "\n",
    "def task1():\n",
    "    array = [ [line[:7], line[7:]] for line in open('source05_12.txt').read().split()]\n",
    "    array.sort(key= lambda x : (x[0], x[1]))\n",
    "    array = [line for line in array if line[0] == array[0][0]]\n",
    "    row, col = array[-1]\n",
    "    return binary_search(row, 0, 127, 7, 0)*8 + binary_search(col, 0, 7, 3, 0)\n",
    "    \n",
    "task1()\n",
    "#print(binary_search(\"FFBFFBF\", 0, 127, 7, 0))"
   ]
  }
 ],
 "metadata": {
  "kernelspec": {
   "display_name": "Python 3",
   "language": "python",
   "name": "python3"
  },
  "language_info": {
   "codemirror_mode": {
    "name": "ipython",
    "version": 3
   },
   "file_extension": ".py",
   "mimetype": "text/x-python",
   "name": "python",
   "nbconvert_exporter": "python",
   "pygments_lexer": "ipython3",
   "version": "3.8.3"
  }
 },
 "nbformat": 4,
 "nbformat_minor": 4
}
