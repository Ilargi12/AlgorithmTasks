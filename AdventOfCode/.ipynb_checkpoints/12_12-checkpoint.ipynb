{
 "cells": [
  {
   "cell_type": "code",
   "execution_count": 11,
   "metadata": {},
   "outputs": [
    {
     "data": {
      "text/plain": [
       "58606.0"
      ]
     },
     "execution_count": 11,
     "metadata": {},
     "output_type": "execute_result"
    }
   ],
   "source": [
    "import numpy\n",
    "\n",
    "currDirection = 'E'\n",
    "position = 10. + 1j\n",
    "ship_x, ship_y = 0, 0\n",
    "array = open(\"source12_12.txt\").read().split()\n",
    "\n",
    "def get_Manhattan():\n",
    "    global ship_x, ship_y\n",
    "    for movement in array:\n",
    "        move(movement[0], int(movement[1:]) )\n",
    "    return abs(ship_x) + abs(ship_y)\n",
    "        \n",
    "def prev_direction():\n",
    "    global position\n",
    "    position *= 1j\n",
    "    \n",
    "def change_direction(value):\n",
    "    while value > 0 :\n",
    "        prev_direction()\n",
    "        value -= 90\n",
    "\n",
    "def move(direction, value):\n",
    "    global position, ship_x, ship_y\n",
    "    if direction == 'N': position += value*1j\n",
    "    elif direction == 'S': position -= value*1j\n",
    "    elif direction == 'E': position += value\n",
    "    elif direction == 'W': position -= value\n",
    "    elif direction == 'F' :\n",
    "        ship_x += value*position.real\n",
    "        ship_y += value*position.imag\n",
    "    elif direction == 'L' : change_direction(value)\n",
    "    elif direction == 'R' : change_direction(360-value)\n",
    "    \n",
    "    \n",
    "get_Manhattan()"
   ]
  }
 ],
 "metadata": {
  "kernelspec": {
   "display_name": "Python 3",
   "language": "python",
   "name": "python3"
  },
  "language_info": {
   "codemirror_mode": {
    "name": "ipython",
    "version": 3
   },
   "file_extension": ".py",
   "mimetype": "text/x-python",
   "name": "python",
   "nbconvert_exporter": "python",
   "pygments_lexer": "ipython3",
   "version": "3.8.3"
  }
 },
 "nbformat": 4,
 "nbformat_minor": 4
}
