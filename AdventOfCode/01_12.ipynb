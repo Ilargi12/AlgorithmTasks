{
 "cells": [
  {
   "cell_type": "code",
   "execution_count": 13,
   "metadata": {},
   "outputs": [
    {
     "data": {
      "text/plain": [
       "1020036"
      ]
     },
     "execution_count": 13,
     "metadata": {},
     "output_type": "execute_result"
    }
   ],
   "source": [
    "def result1():\n",
    "    array = [int(x) for x in open(\"source01_12.txt\").readlines()]\n",
    "    array.sort()\n",
    "    i = 0\n",
    "    j = len(array)-1\n",
    "    while i < j:\n",
    "        if(array[i]+array[j] == 2020) : return array[i]*array[j]\n",
    "        elif array[i]+array[j] > 2020 : j -= 1\n",
    "        else : i +=1\n",
    "    \n",
    "result1()"
   ]
  },
  {
   "cell_type": "code",
   "execution_count": null,
   "metadata": {},
   "outputs": [],
   "source": [
    "def result2():\n",
    "    array = [int(x) for x in open(\"source01_12.txt\").readlines()]\n",
    "    array.sort()\n",
    "    for k in range(len(array) - 2 )\n",
    "        i = k+1\n",
    "        j = len(array)-1\n",
    "        while i < j:\n",
    "            if(array[i]+array[j]+array[k] == 2020) : return array[i],array[j],array[k]\n",
    "            elif array[i]+array[j]+array[k] > 2020 : j -= 1\n",
    "            else : i +=1"
   ]
  }
 ],
 "metadata": {
  "kernelspec": {
   "display_name": "Python 3",
   "language": "python",
   "name": "python3"
  },
  "language_info": {
   "codemirror_mode": {
    "name": "ipython",
    "version": 3
   },
   "file_extension": ".py",
   "mimetype": "text/x-python",
   "name": "python",
   "nbconvert_exporter": "python",
   "pygments_lexer": "ipython3",
   "version": "3.8.3"
  }
 },
 "nbformat": 4,
 "nbformat_minor": 4
}
