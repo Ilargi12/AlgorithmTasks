{
 "cells": [
  {
   "cell_type": "code",
   "execution_count": 30,
   "metadata": {},
   "outputs": [
    {
     "data": {
      "text/plain": [
       "398"
      ]
     },
     "execution_count": 30,
     "metadata": {},
     "output_type": "execute_result"
    }
   ],
   "source": [
    "def get_list():\n",
    "    return [x.split() for x in open(\"source02_12.txt\").readlines()]\n",
    "    \n",
    "def result1():\n",
    "    counter = 0\n",
    "    for subarray in get_list():\n",
    "        minn, maxx = [int(x) for x in subarray[0].split(\"-\")]\n",
    "        letter = subarray[1][0]\n",
    "        word = subarray[2]\n",
    "        count_letter = word.count(letter)\n",
    "        \n",
    "        if(count_letter >= minn and count_letter <= maxx):\n",
    "            counter+=1\n",
    "    return counter\n",
    "    \n",
    "result1()"
   ]
  },
  {
   "cell_type": "code",
   "execution_count": 29,
   "metadata": {},
   "outputs": [
    {
     "data": {
      "text/plain": [
       "562"
      ]
     },
     "execution_count": 29,
     "metadata": {},
     "output_type": "execute_result"
    }
   ],
   "source": [
    "def result2():\n",
    "    counter = 0\n",
    "    for subarray in get_list():\n",
    "        f_index, s_index  = [int(x)-1 for x in subarray[0].split(\"-\")]\n",
    "        char = subarray[1][0]\n",
    "        word = subarray[2]\n",
    "        \n",
    "        if(word[f_index] == char and word[s_index] != char or \n",
    "          word[f_index] != char and word[s_index] == char):\n",
    "            counter+=1\n",
    "        \n",
    "    return counter\n",
    "\n",
    "result2()"
   ]
  }
 ],
 "metadata": {
  "kernelspec": {
   "display_name": "Python 3",
   "language": "python",
   "name": "python3"
  },
  "language_info": {
   "codemirror_mode": {
    "name": "ipython",
    "version": 3
   },
   "file_extension": ".py",
   "mimetype": "text/x-python",
   "name": "python",
   "nbconvert_exporter": "python",
   "pygments_lexer": "ipython3",
   "version": "3.8.3"
  }
 },
 "nbformat": 4,
 "nbformat_minor": 4
}
