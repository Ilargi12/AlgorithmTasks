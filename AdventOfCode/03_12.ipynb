{
 "cells": [
  {
   "cell_type": "code",
   "execution_count": 21,
   "metadata": {},
   "outputs": [
    {
     "data": {
      "text/plain": [
       "4723283400"
      ]
     },
     "execution_count": 21,
     "metadata": {},
     "output_type": "execute_result"
    }
   ],
   "source": [
    "import math\n",
    "\n",
    "def count_trees():\n",
    "    jungle = open(\"source03_12.txt\").read().split()\n",
    "    index = 0\n",
    "    multiplier = 0\n",
    "    counter = [0]*5\n",
    "    n = len(jungle[0])\n",
    "    for line in jungle:\n",
    "        if line[multiplier%n] == '#': counter[0]+=1\n",
    "        if line[(int(multiplier/2))%n] == '#' and index % 2 == 0: counter[4] += 1\n",
    "        if line[(multiplier*3)%n] == '#': counter[1] +=1\n",
    "        if line[(multiplier*5)%n] == '#': counter[2] +=1\n",
    "        if line[(multiplier*7)%n] == '#': counter[3] +=1\n",
    "        multiplier += 1\n",
    "        index += 1\n",
    "    return math.prod(counter)\n",
    "\n",
    "count_trees()"
   ]
  }
 ],
 "metadata": {
  "kernelspec": {
   "display_name": "Python 3",
   "language": "python",
   "name": "python3"
  },
  "language_info": {
   "codemirror_mode": {
    "name": "ipython",
    "version": 3
   },
   "file_extension": ".py",
   "mimetype": "text/x-python",
   "name": "python",
   "nbconvert_exporter": "python",
   "pygments_lexer": "ipython3",
   "version": "3.8.3"
  }
 },
 "nbformat": 4,
 "nbformat_minor": 4
}
