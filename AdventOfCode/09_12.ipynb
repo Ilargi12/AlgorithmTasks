{
 "cells": [
  {
   "cell_type": "code",
   "execution_count": 15,
   "metadata": {},
   "outputs": [
    {
     "data": {
      "text/plain": [
       "10884537"
      ]
     },
     "execution_count": 15,
     "metadata": {},
     "output_type": "execute_result"
    }
   ],
   "source": [
    "def sum_exists(array, sumA):\n",
    "    my_set = set(array)\n",
    "    for x in my_set:\n",
    "        if sumA >= x and (sumA-x) in my_set:\n",
    "            return True\n",
    "    return False\n",
    "\n",
    "\n",
    "def task1():\n",
    "    array = [int(x) for x in open(\"source09_12.txt\").read().split()]\n",
    "    n = 25\n",
    "    for index in range(n, len(array)):\n",
    "        if not sum_exists(array[index-n:index], array[index]): return array[index]\n",
    "    return False\n",
    "\n",
    "task1()"
   ]
  },
  {
   "cell_type": "code",
   "execution_count": 34,
   "metadata": {},
   "outputs": [
    {
     "name": "stdout",
     "output_type": "stream",
     "text": [
      "788131\n",
      "408514\n",
      "1196645\n"
     ]
    }
   ],
   "source": [
    "def get_min_max(array, sum_to_find):\n",
    "    curr_sum = 0\n",
    "    my_dict = dict()\n",
    "    my_dict[0] = -1\n",
    "    for i in range(len(array)):\n",
    "        x = array[i]\n",
    "        curr_sum += x\n",
    "        my_dict[curr_sum] = i\n",
    "        if my_dict.get(curr_sum-sum_to_find):\n",
    "            return min(array[my_dict.get(curr_sum-sum_to_find)+1:] + array[my_dict.get(curr_sum-sum_to_find)+1]\n",
    "    return -1\n",
    "            \n",
    "\n",
    "def task2():\n",
    "    invalid_number = task1()\n",
    "    array = [int(x) for x in open(\"source09_12.txt\").read().split()]\n",
    "    print(get_min_max(array, invalid_number))\n",
    "\n",
    "task2()"
   ]
  }
 ],
 "metadata": {
  "kernelspec": {
   "display_name": "Python 3",
   "language": "python",
   "name": "python3"
  },
  "language_info": {
   "codemirror_mode": {
    "name": "ipython",
    "version": 3
   },
   "file_extension": ".py",
   "mimetype": "text/x-python",
   "name": "python",
   "nbconvert_exporter": "python",
   "pygments_lexer": "ipython3",
   "version": "3.8.3"
  }
 },
 "nbformat": 4,
 "nbformat_minor": 4
}
