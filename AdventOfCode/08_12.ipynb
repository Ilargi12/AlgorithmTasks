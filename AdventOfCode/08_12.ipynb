{
 "cells": [
  {
   "cell_type": "code",
   "execution_count": 23,
   "metadata": {},
   "outputs": [
    {
     "data": {
      "text/plain": [
       "1200"
      ]
     },
     "execution_count": 23,
     "metadata": {},
     "output_type": "execute_result"
    }
   ],
   "source": [
    "def get_acc():\n",
    "    array = open(\"source08_12.txt\").readlines()\n",
    "    array = [x.split() for x in array]\n",
    "    acc, currIndex = 0, 0\n",
    "    visited = [False]*len(array)\n",
    "    while(visited[currIndex] == False):\n",
    "        visited[currIndex] = True\n",
    "        instruction, sign, number = array[currIndex][0], array[currIndex][1][0], array[currIndex][1][1:]\n",
    "        number = int(number) if sign == '+' else -(int(number))\n",
    "        currIndex += 1 if instruction in ['acc','nop'] else number\n",
    "        if instruction == 'acc': acc += number\n",
    "    return acc\n",
    "    \n",
    "get_acc()"
   ]
  }
 ],
 "metadata": {
  "kernelspec": {
   "display_name": "Python 3",
   "language": "python",
   "name": "python3"
  },
  "language_info": {
   "codemirror_mode": {
    "name": "ipython",
    "version": 3
   },
   "file_extension": ".py",
   "mimetype": "text/x-python",
   "name": "python",
   "nbconvert_exporter": "python",
   "pygments_lexer": "ipython3",
   "version": "3.8.3"
  }
 },
 "nbformat": 4,
 "nbformat_minor": 4
}
