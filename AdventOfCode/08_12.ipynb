{
 "cells": [
  {
   "cell_type": "code",
   "execution_count": 1,
   "metadata": {},
   "outputs": [
    {
     "data": {
      "text/plain": [
       "1200"
      ]
     },
     "execution_count": 1,
     "metadata": {},
     "output_type": "execute_result"
    }
   ],
   "source": [
    "def get_acc():\n",
    "    array = open(\"source08_12.txt\").readlines()\n",
    "    array = [x.split() for x in array]\n",
    "    acc, currIndex = 0, 0\n",
    "    visited = [False]*len(array)\n",
    "    while(visited[currIndex] == False):\n",
    "        visited[currIndex] = True\n",
    "        instruction, sign, number = array[currIndex][0], array[currIndex][1][0], array[currIndex][1][1:]\n",
    "        number = int(number) if sign == '+' else -(int(number))\n",
    "        currIndex += 1 if instruction in ['acc','nop'] else number\n",
    "        if instruction == 'acc': acc += number\n",
    "    return acc\n",
    "    \n",
    "get_acc()"
   ]
  },
  {
   "cell_type": "code",
   "execution_count": 13,
   "metadata": {},
   "outputs": [
    {
     "data": {
      "text/plain": [
       "1023"
      ]
     },
     "execution_count": 13,
     "metadata": {},
     "output_type": "execute_result"
    }
   ],
   "source": [
    "def task2():\n",
    "    currCheckingIndex = 0\n",
    "    array = open(\"source08_12.txt\").readlines()\n",
    "    array = [x.split() for x in array]\n",
    "    while(True):\n",
    "        acc, currIndex = 0, 0\n",
    "        visited = [False]*len(array)\n",
    "        while (array[currCheckingIndex][0] == 'acc' and currCheckingIndex < len(array)) : currCheckingIndex += 1\n",
    "        if(currCheckingIndex >= len(array)): break\n",
    "        #podmien\n",
    "        instruction = array[currCheckingIndex][0]\n",
    "        array[currCheckingIndex][0] = 'nop' if instruction == 'jmp' else 'jmp'\n",
    "        \n",
    "        while( currIndex < len(array) and visited[currIndex] == False):\n",
    "            visited[currIndex] = True\n",
    "            instruction, sign, number = array[currIndex][0], array[currIndex][1][0], array[currIndex][1][1:]\n",
    "            number = int(number) if sign == '+' else -(int(number))\n",
    "            currIndex += 1 if instruction in ['acc','nop'] else number\n",
    "            if instruction == 'acc': acc += number\n",
    "            if currIndex == len(array)-1: return acc\n",
    "        \n",
    "        instruction = array[currCheckingIndex][0]\n",
    "        array[currCheckingIndex][0] = 'nop' if instruction == 'jmp' else 'jmp'\n",
    "            \n",
    "        currCheckingIndex += 1\n",
    "        \n",
    "    return 0\n",
    "        \n",
    "task2()"
   ]
  }
 ],
 "metadata": {
  "kernelspec": {
   "display_name": "Python 3",
   "language": "python",
   "name": "python3"
  },
  "language_info": {
   "codemirror_mode": {
    "name": "ipython",
    "version": 3
   },
   "file_extension": ".py",
   "mimetype": "text/x-python",
   "name": "python",
   "nbconvert_exporter": "python",
   "pygments_lexer": "ipython3",
   "version": "3.8.3"
  }
 },
 "nbformat": 4,
 "nbformat_minor": 4
}
