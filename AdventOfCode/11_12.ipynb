{
 "cells": [
  {
   "cell_type": "code",
   "execution_count": 42,
   "metadata": {},
   "outputs": [
    {
     "name": "stdout",
     "output_type": "stream",
     "text": [
      "2265\n",
      "2045\n"
     ]
    }
   ],
   "source": [
    "def count_occupied_around(array, row, col, is_task_one):\n",
    "    if not is_task_one : return count_occupied_around_task2(array, row, col)\n",
    "    counter = 0\n",
    "    for i in range(row-1, row+2):\n",
    "        for j in range(col-1, col+2):\n",
    "            if (i == row and j == col): continue\n",
    "            if(i < len(array) and i >= 0 and j < len(array[0]) and j >= 0):\n",
    "                if(array[i][j] == '#'): counter+=1\n",
    "    return counter\n",
    "\n",
    "def count_occupied_around_task2(array, row, col):\n",
    "    d_row = [0,-1,-1,-1,0,1,1,1]\n",
    "    d_col = [-1,-1,0,1,1,1,0,-1]\n",
    "    occupied = 0\n",
    "    for i in range(len(d_row)):\n",
    "        it = 1\n",
    "        row_change = d_row[i]\n",
    "        col_change = d_col[i]\n",
    "        while( 0 <= row+it*row_change < len(array) and 0 <= col+it*col_change < len(array[0])):\n",
    "            if(array[row+it*row_change][col+it*col_change] in ['L', '#']):\n",
    "                if array[row+it*row_change][col+it*col_change] == '#': occupied += 1\n",
    "                break\n",
    "            it += 1\n",
    "    return occupied\n",
    "\n",
    "def get_two_dim_array(file_name):\n",
    "    return [x for x in open(file_name).read().split()]\n",
    "\n",
    "def task(is_task_one):\n",
    "    array = get_two_dim_array(\"source11_12.txt\") \n",
    "    rows = len(array)\n",
    "    cols = len(array[0])\n",
    "    while(True):\n",
    "        to_change = list()\n",
    "        has_changed = False\n",
    "        sum_of_occupied = 0\n",
    "        for i in range(rows):\n",
    "            for j in range(cols):\n",
    "                if(array[i][j] == 'L' and count_occupied_around(array, i, j, is_task_one) == 0) :\n",
    "                    to_change.append((i, j, '#'))\n",
    "                    has_changed = True\n",
    "                elif(array[i][j] == '#'):\n",
    "                    sum_of_occupied+=1\n",
    "                    if( (is_task_one and count_occupied_around(array, i, j, is_task_one) >= 4) or\n",
    "                      (not is_task_one and count_occupied_around(array, i, j, is_task_one) >= 5 )):\n",
    "                        to_change.append((i, j, 'L'))\n",
    "                        has_changed = True\n",
    "        if not has_changed:\n",
    "            return sum_of_occupied\n",
    "        \n",
    "        for (i, j, sign) in to_change:\n",
    "            line_list = list(array[i])\n",
    "            line_list[j] = sign\n",
    "            array[i] = ''.join(line_list)\n",
    "    return 0\n",
    "\n",
    "print(task(True))\n",
    "print(task(False))"
   ]
  },
  {
   "cell_type": "code",
   "execution_count": 39,
   "metadata": {},
   "outputs": [
    {
     "data": {
      "text/plain": [
       "2045"
      ]
     },
     "execution_count": 39,
     "metadata": {},
     "output_type": "execute_result"
    }
   ],
   "source": []
  }
 ],
 "metadata": {
  "kernelspec": {
   "display_name": "Python 3",
   "language": "python",
   "name": "python3"
  },
  "language_info": {
   "codemirror_mode": {
    "name": "ipython",
    "version": 3
   },
   "file_extension": ".py",
   "mimetype": "text/x-python",
   "name": "python",
   "nbconvert_exporter": "python",
   "pygments_lexer": "ipython3",
   "version": "3.8.3"
  }
 },
 "nbformat": 4,
 "nbformat_minor": 4
}
